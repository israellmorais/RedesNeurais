{
  "nbformat": 4,
  "nbformat_minor": 0,
  "metadata": {
    "colab": {
      "name": "PlotarRegiaoDecisaoELM.ipynb",
      "provenance": [],
      "authorship_tag": "ABX9TyOwKt20PbnSuo/rdrFDLmLr",
      "include_colab_link": true
    },
    "kernelspec": {
      "name": "python3",
      "display_name": "Python 3"
    },
    "language_info": {
      "name": "python"
    }
  },
  "cells": [
    {
      "cell_type": "markdown",
      "metadata": {
        "id": "view-in-github",
        "colab_type": "text"
      },
      "source": [
        "<a href=\"https://colab.research.google.com/github/israellmorais/RedesNeurais/blob/main/PlotarRegiaoDecisaoELM.ipynb\" target=\"_parent\"><img src=\"https://colab.research.google.com/assets/colab-badge.svg\" alt=\"Open In Colab\"/></a>"
      ]
    },
    {
      "cell_type": "markdown",
      "metadata": {
        "id": "ubWUV07zTHbv"
      },
      "source": [
        "# **Plotar a região de decisão de uma ELM**\n",
        "\n",
        "### Nome: Israel de Morais Madalena\n",
        "### Disciplina: Redes Neurais Artificiais\n",
        "### Prof.: Francisco de Assis Boldt"
      ]
    },
    {
      "cell_type": "code",
      "metadata": {
        "colab": {
          "base_uri": "https://localhost:8080/",
          "height": 296
        },
        "id": "YRtnG2CmS_OB",
        "outputId": "acd65da1-dfe5-42ee-c301-d8a9217838eb"
      },
      "source": [
        "import matplotlib.pyplot as plt\n",
        "import numpy as np\n",
        "from sklearn.datasets import make_blobs\n",
        "from sklearn.preprocessing import label_binarize\n",
        "\n",
        "def geradataset(tamanho=20, centros=[[0,0],[1,0],[1,1],[0,1]]):\n",
        "    X, y = make_blobs(n_samples=tamanho, centers=centros, cluster_std=0.2)\n",
        "    y = np.array(y%2, dtype=int)\n",
        "    return X, y\n",
        "\n",
        "def plotadataset(X, y):\n",
        "    plt.xlabel('X1')\n",
        "    plt.ylabel('X2')\n",
        "    for k in set(y):\n",
        "        plt.plot(X[:,0][y==k],X[:,1][y==k], \"o\", alpha=0.3)\n",
        "\n",
        "def plotahiperplano(vetor, bias=0, xmin=0, xmax=1):\n",
        "    xs = np.linspace(xmin, xmax, num=2)\n",
        "    ys = (-vetor[0] / vetor[1]) * xs - bias / vetor[1]\n",
        "    plt.plot(xs,ys)\n",
        "\n",
        "X, y = geradataset()\n",
        "plotadataset(X, y)\n",
        "plt.show()\n",
        "y"
      ],
      "execution_count": 2,
      "outputs": [
        {
          "output_type": "display_data",
          "data": {
            "image/png": "[encoded data removed]",
            "text/plain": [
              "<Figure size 432x288 with 1 Axes>"
            ]
          },
          "metadata": {
            "needs_background": "light"
          }
        },
        {
          "output_type": "execute_result",
          "data": {
            "text/plain": [
              "array([1, 1, 1, 1, 1, 0, 1, 0, 0, 1, 0, 1, 0, 1, 1, 0, 0, 0, 0, 0])"
            ]
          },
          "metadata": {},
          "execution_count": 2
        }
      ]
    }
  ]
}
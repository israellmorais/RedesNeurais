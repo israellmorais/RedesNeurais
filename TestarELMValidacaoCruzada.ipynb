{
  "nbformat": 4,
  "nbformat_minor": 0,
  "metadata": {
    "colab": {
      "name": "TestarELMValidacaoCruzada.ipynb",
      "provenance": [],
      "authorship_tag": "ABX9TyMFh3/sx1pe/2rydUjved5V",
      "include_colab_link": true
    },
    "kernelspec": {
      "name": "python3",
      "display_name": "Python 3"
    },
    "language_info": {
      "name": "python"
    }
  },
  "cells": [
    {
      "cell_type": "markdown",
      "metadata": {
        "id": "view-in-github",
        "colab_type": "text"
      },
      "source": [
        "<a href=\"https://colab.research.google.com/github/israellmorais/RedesNeurais/blob/main/TestarELMValidacaoCruzada.ipynb\" target=\"_parent\"><img src=\"https://colab.research.google.com/assets/colab-badge.svg\" alt=\"Open In Colab\"/></a>"
      ]
    },
    {
      "cell_type": "markdown",
      "metadata": {
        "id": "ubWUV07zTHbv"
      },
      "source": [
        "# **Testar a ELM com validação cruzada**\n",
        "\n",
        "### Nome: Israel de Morais Madalena\n",
        "### Disciplina: Redes Neurais Artificiais\n",
        "### Prof.: Francisco de Assis Boldt"
      ]
    },
    {
      "cell_type": "code",
      "metadata": {
        "colab": {
          "base_uri": "https://localhost:8080/",
          "height": 401
        },
        "id": "YRtnG2CmS_OB",
        "outputId": "0f613272-1528-4d0d-f159-16d67c21b7ad"
      },
      "source": [
        "import matplotlib.pyplot as plt\n",
        "import numpy as np\n",
        "from sklearn.datasets import make_blobs\n",
        "from sklearn.preprocessing import label_binarize\n",
        "from sklearn.datasets import load_breast_cancer\n",
        "from sklearn import datasets\n",
        "\n",
        "def geradataset(tamanho=20, centros=[[0,0],[1,0],[1,1],[0,1]]):\n",
        "    X, y = make_blobs(n_samples=tamanho, centers=centros, cluster_std=0.2)\n",
        "    y = np.array(y%2, dtype=int)\n",
        "    return X, y\n",
        "\n",
        "def plotadataset(X, y):\n",
        "    plt.xlabel('X1')\n",
        "    plt.ylabel('X2')\n",
        "    for k in set(y):\n",
        "        plt.plot(X[:,0][y==k],X[:,1][y==k], \"o\", alpha=0.3)\n",
        "\n",
        "def plotahiperplano(vetor, bias=0, xmin=0, xmax=1):\n",
        "    xs = np.linspace(xmin, xmax, num=2)\n",
        "    ys = (-vetor[0] / vetor[1]) * xs - bias / vetor[1]\n",
        "    plt.plot(xs,ys)\n",
        "\n",
        "X, y = datasets.load_iris(return_X_y=True)\n",
        "plotadataset(X, y)\n",
        "plt.show()\n",
        "y"
      ],
      "execution_count": 2,
      "outputs": [
        {
          "output_type": "display_data",
          "data": {
            "image/png": "[encoded data removed]",
            "text/plain": [
              "<Figure size 432x288 with 1 Axes>"
            ]
          },
          "metadata": {
            "needs_background": "light"
          }
        },
        {
          "output_type": "execute_result",
          "data": {
            "text/plain": [
              "array([0, 0, 0, 0, 0, 0, 0, 0, 0, 0, 0, 0, 0, 0, 0, 0, 0, 0, 0, 0, 0, 0,\n",
              "       0, 0, 0, 0, 0, 0, 0, 0, 0, 0, 0, 0, 0, 0, 0, 0, 0, 0, 0, 0, 0, 0,\n",
              "       0, 0, 0, 0, 0, 0, 1, 1, 1, 1, 1, 1, 1, 1, 1, 1, 1, 1, 1, 1, 1, 1,\n",
              "       1, 1, 1, 1, 1, 1, 1, 1, 1, 1, 1, 1, 1, 1, 1, 1, 1, 1, 1, 1, 1, 1,\n",
              "       1, 1, 1, 1, 1, 1, 1, 1, 1, 1, 1, 1, 2, 2, 2, 2, 2, 2, 2, 2, 2, 2,\n",
              "       2, 2, 2, 2, 2, 2, 2, 2, 2, 2, 2, 2, 2, 2, 2, 2, 2, 2, 2, 2, 2, 2,\n",
              "       2, 2, 2, 2, 2, 2, 2, 2, 2, 2, 2, 2, 2, 2, 2, 2, 2, 2])"
            ]
          },
          "metadata": {},
          "execution_count": 2
        }
      ]
    },
    {
      "cell_type": "code",
      "metadata": {
        "id": "W0LH4xZrVcpm"
      },
      "source": [
        "class CustoPerceptron():\n",
        "    @staticmethod\n",
        "    def erro(y, ypred):\n",
        "        return y - ypred\n",
        "    @staticmethod\n",
        "    def custo(y, ypred):\n",
        "        return np.sum(CustoPerceptron.erro(y, ypred)**2)\n",
        "    @staticmethod\n",
        "    def gradiente(y, ypred, X):\n",
        "        return np.matmul(X.T, CustoPerceptron.erro(y, ypred))\n",
        "\n",
        "class Adaline():\n",
        "    def __init__(self):\n",
        "        self.preactivated = True\n",
        "    @staticmethod\n",
        "    def erro(y, ypred):\n",
        "        return y - ypred\n",
        "    @staticmethod\n",
        "    def custo(y, ypred):\n",
        "        return np.sum((1 - Adaline.erro(y, ypred))**2)\n",
        "    @staticmethod\n",
        "    def gradiente(y, ypred, X):\n",
        "        return np.matmul(X.T, Adaline.erro(y, ypred))\n",
        "\n",
        "class DescidaGradiente():\n",
        "    def __init__(self, custo=Adaline(), maxiter=1000, alpha=0.005):\n",
        "        self.custo = custo\n",
        "        self.maxiter = maxiter\n",
        "        self.alpha = alpha\n",
        "    \n",
        "    def getW(self, X, y, activation=lambda a: a):\n",
        "        w = np.random.uniform(-1, -1, size=(X.shape[1], y.shape[1]))\n",
        "        for _ in range(self.maxiter):\n",
        "            ypred = activation(np.matmul(X, w))\n",
        "            custo = self.custo.custo(y, ypred)\n",
        "            if custo == 0:\n",
        "                break\n",
        "            w = w + self.alpha * self.custo.gradiente(y, ypred, X)\n",
        "        return w\n",
        "\n",
        "class PseudoInversa():\n",
        "    def __init__(self):\n",
        "        pass\n",
        "    def getW(self, X, y):\n",
        "        pinv = np.linalg.pinv(X)\n",
        "        w = np.matmul(pinv, y)\n",
        "        return w\n",
        "\n",
        "from sklearn.base import BaseEstimator, ClassifierMixin\n",
        "from scipy.special import expit\n",
        "\n",
        "def tanh(a):\n",
        "    return expit(a) * 2 - 1\n",
        "\n",
        "class ExtremeLearningMachine(BaseEstimator, ClassifierMixin):\n",
        "    def __init__(self, algoritmo=PseudoInversa()):\n",
        "        self.wih = None\n",
        "        self.w = None\n",
        "        self.threshold = 0\n",
        "        self.activation = tanh\n",
        "        self.algoritmo = algoritmo\n",
        "    \n",
        "    @staticmethod\n",
        "    def includebias(X):\n",
        "        bias = np.ones((X.shape[0],1))\n",
        "        Xb = np.concatenate((bias,X), axis=1)\n",
        "        return Xb\n",
        "    \n",
        "    def fit(self, X, y):\n",
        "        self.wih = np.random.uniform(-1, 1, size=(X.shape[1],X.shape[0]//3))\n",
        "        Xh = np.matmul(X, self.wih)\n",
        "        Xho = self.activation(Xh)\n",
        "        X = ExtremeLearningMachine.includebias(Xho)\n",
        "        self.labels = list(set(y))\n",
        "        y = label_binarize(y, classes=self.labels)*2-1\n",
        "        if len(self.labels) == 2 :\n",
        "            y = y[:,0:1]\n",
        "        # treinamento\n",
        "        if hasattr(self.algoritmo, 'custo') and not (hasattr(self.algoritmo.custo, 'preactivated') and self.algoritmo.custo.preactivated):\n",
        "            self.w = self.algoritmo.getW(X, y, self.activation)\n",
        "        else:\n",
        "            self.w = self.algoritmo.getW(X, y)\n",
        "\n",
        "    def predict(self, X):\n",
        "        Xh = np.matmul(X, self.wih)\n",
        "        Xho = self.activation(Xh)\n",
        "        Xb = ExtremeLearningMachine.includebias(Xho)\n",
        "        a = np.matmul(Xb, self.w)\n",
        "        if self.w.shape[1] > 1:\n",
        "            idx = np.argmax(a, axis=1) \n",
        "        else:\n",
        "            idx = np.array(self.activation(a) > self.threshold, dtype=int)[:,0]\n",
        "        ypred = np.array([self.labels[i] for i in idx])\n",
        "        return ypred\n",
        "\n"
      ],
      "execution_count": 3,
      "outputs": []
    },
    {
      "cell_type": "code",
      "metadata": {
        "colab": {
          "base_uri": "https://localhost:8080/"
        },
        "id": "eYLioAFRWy08",
        "outputId": "1aebc5e0-d3b8-4bdc-fc39-5f9081472620"
      },
      "source": [
        "from sklearn.model_selection import train_test_split\n",
        "from sklearn.model_selection import cross_val_score\n",
        "\n",
        "X_train, X_test, y_train, y_test = train_test_split(X, y, test_size=0.33, random_state=42)\n",
        "\n",
        "elm = ExtremeLearningMachine()\n",
        "\n",
        "scores = cross_val_score(elm, X, y, cv=5)\n",
        "\n",
        "print(\"%0.2f de acurácia com um desvio padrão de %0.2f\" % (scores.mean(), scores.std()))\n",
        "\n",
        "\n",
        "scores"
      ],
      "execution_count": 10,
      "outputs": [
        {
          "output_type": "stream",
          "text": [
            "0.95 de acurácia com um desvio padrão de 0.02\n"
          ],
          "name": "stdout"
        },
        {
          "output_type": "execute_result",
          "data": {
            "text/plain": [
              "array([0.96666667, 0.96666667, 0.93333333, 0.93333333, 0.96666667])"
            ]
          },
          "metadata": {},
          "execution_count": 10
        }
      ]
    }
  ]
}